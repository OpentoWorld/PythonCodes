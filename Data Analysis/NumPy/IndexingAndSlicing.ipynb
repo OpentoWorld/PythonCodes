{
 "cells": [
  {
   "cell_type": "code",
   "execution_count": 105,
   "metadata": {
    "collapsed": true,
    "pycharm": {
     "is_executing": false
    }
   },
   "outputs": [
    {
     "name": "stdout",
     "text": [
      "10\n"
     ],
     "output_type": "stream"
    }
   ],
   "source": [
    "a=10\n",
    "print(a)"
   ]
  },
  {
   "cell_type": "code",
   "execution_count": 106,
   "outputs": [
    {
     "name": "stdout",
     "text": [
      "[1 2 3 4 5]\n"
     ],
     "output_type": "stream"
    }
   ],
   "source": [
    "import numpy as np\n",
    "a=np.array([1,2,3,4,5])\n",
    "print (a)"
   ],
   "metadata": {
    "collapsed": false,
    "pycharm": {
     "name": "#%%\n",
     "is_executing": false
    }
   }
  },
  {
   "cell_type": "code",
   "execution_count": 107,
   "outputs": [
    {
     "name": "stdout",
     "text": [
      "8\n"
     ],
     "output_type": "stream"
    }
   ],
   "source": [
    "arr=np.arange(2,20)\n",
    "element=arr[6]\n",
    "print (element)"
   ],
   "metadata": {
    "collapsed": false,
    "pycharm": {
     "name": "#%%\n",
     "is_executing": false
    }
   }
  },
  {
   "cell_type": "code",
   "execution_count": 108,
   "outputs": [
    {
     "name": "stdout",
     "text": [
      "8\nslice(1, 10, 2)\n[ 3  5  7  9 11]\n"
     ],
     "output_type": "stream"
    }
   ],
   "source": [
    "arr_slice=slice(1,10,2)\n",
    "element=arr[6]\n",
    "print (element)\n",
    "print (arr_slice)\n",
    "print (arr[arr_slice])"
   ],
   "metadata": {
    "collapsed": false,
    "pycharm": {
     "name": "#%%\n",
     "is_executing": false
    }
   }
  },
  {
   "cell_type": "code",
   "execution_count": 109,
   "outputs": [
    {
     "name": "stdout",
     "text": [
      "[[1 2]\n [2 3]]\n(3L, 3L)\n2\n4\n[[2 3]\n [4 3]\n [4 5]]\n"
     ],
     "output_type": "stream"
    }
   ],
   "source": [
    "a=np.array([[1,2,3],[2,3,4],[4,5,6]])\n",
    "print (a[0:2,0:2])\n",
    "print (a.shape)\n",
    "print (a.ndim)\n",
    "print (a.itemsize)\n",
    "x=np.empty([3,2],dtype=int)\n",
    "print (x)"
   ],
   "metadata": {
    "collapsed": false,
    "pycharm": {
     "name": "#%%\n",
     "is_executing": false
    }
   }
  },
  {
   "cell_type": "code",
   "execution_count": 110,
   "outputs": [
    {
     "name": "stdout",
     "text": [
      "[[2 3 4]\n [3 4 5]]\n4\n(2L, 3L)\n2\n",
      "[2 3 4 3 4 5]\n[[2 3 4]\n [3 4 5]]\n[2 3 4 3 4 5]\n"
     ],
     "output_type": "stream"
    }
   ],
   "source": [
    "a=np.array([[2,3,4],[3,4,5]])\n",
    "print (a)\n",
    "print (a.itemsize)\n",
    "print (a.shape)\n",
    "print (a.ndim)\n",
    "print (a.ravel())\n",
    "print (a)\n",
    "element_single=a.ravel()\n",
    "print (element_single)"
   ],
   "metadata": {
    "collapsed": false,
    "pycharm": {
     "name": "#%%\n",
     "is_executing": false
    }
   }
  }
 ],
 "metadata": {
  "kernelspec": {
   "name": "python3",
   "language": "python",
   "display_name": "Python 3"
  },
  "language_info": {
   "codemirror_mode": {
    "name": "ipython",
    "version": 2
   },
   "file_extension": ".py",
   "mimetype": "text/x-python",
   "name": "python",
   "nbconvert_exporter": "python",
   "pygments_lexer": "ipython2",
   "version": "2.7.6"
  },
  "pycharm": {
   "stem_cell": {
    "cell_type": "raw",
    "source": [],
    "metadata": {
     "collapsed": false
    }
   }
  }
 },
 "nbformat": 4,
 "nbformat_minor": 0
}