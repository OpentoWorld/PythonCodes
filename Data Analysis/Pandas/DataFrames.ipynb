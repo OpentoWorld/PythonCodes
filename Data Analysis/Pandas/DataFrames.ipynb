{
 "cells": [
  {
   "cell_type": "code",
   "execution_count": 118,
   "metadata": {
    "collapsed": true,
    "pycharm": {
     "is_executing": false
    }
   },
   "outputs": [],
   "source": [
    "import numpy as np\n",
    "import pandas as pd"
   ]
  },
  {
   "cell_type": "code",
   "execution_count": 119,
   "outputs": [
    {
     "name": "stdout",
     "text": [
      "    0\n0  10\n1  20\n2  30\n3  40\n4  50\n"
     ],
     "output_type": "stream"
    }
   ],
   "source": [
    "#converting simple array to pandas DataFrames\n",
    "listx=[10,20,30,40,50]\n",
    "table=pd.DataFrame(listx)\n",
    "print (table)"
   ],
   "metadata": {
    "collapsed": false,
    "pycharm": {
     "name": "#%%\n",
     "is_executing": false
    }
   }
  },
  {
   "cell_type": "code",
   "execution_count": 120,
   "outputs": [
    {
     "name": "stdout",
     "text": [
      "        a  b    c\nFirst   1  2  NaN\nSecond  2  4  8.0\n<class 'pandas.core.frame.DataFrame'>\n"
     ],
     "output_type": "stream"
    }
   ],
   "source": [
    "data=[{'a':1,'b':2},{'a':2,'b':4,'c':8}]\n",
    "table=pd.DataFrame(data,index=['First','Second'])\n",
    "print (table)\n",
    "print (type(table))"
   ],
   "metadata": {
    "collapsed": false,
    "pycharm": {
     "name": "#%%\n",
     "is_executing": false
    }
   }
  },
  {
   "cell_type": "code",
   "execution_count": 121,
   "outputs": [
    {
     "name": "stdout",
     "text": [
      "   one  two\na    1    2\nb    2    3\nc    3    4\n"
     ],
     "output_type": "stream"
    }
   ],
   "source": [
    "data={'one':pd.Series([1,2,3],index=['a','b','c']),'two':pd.Series([2,3,4],index=['a','b','c'])}\n",
    "table=pd.DataFrame(data)\n",
    "print (table)"
   ],
   "metadata": {
    "collapsed": false,
    "pycharm": {
     "name": "#%%\n",
     "is_executing": false
    }
   }
  },
  {
   "cell_type": "code",
   "execution_count": 122,
   "outputs": [
    {
     "name": "stdout",
     "text": [
      "   one  two  Rakesh\na    1    2      60\nb    2    3      70\nc    3    4      77\nAfter deletion operation\n   one  two\na    1    2\nb    2    3\nc    3    4\nSearching\na    2\nb    3\nc    4\nName: two, dtype: int64\n"
     ],
     "output_type": "stream"
    }
   ],
   "source": [
    "table['Rakesh']=pd.Series([60,70,77],index=['a','b','c'])\n",
    "print (table)\n",
    "del table['Rakesh']\n",
    "print ('After deletion operation')\n",
    "print (table)\n",
    "print ('Searching')\n",
    "print (table['two'])"
   ],
   "metadata": {
    "collapsed": false,
    "pycharm": {
     "name": "#%%\n",
     "is_executing": false
    }
   }
  },
  {
   "cell_type": "code",
   "execution_count": 123,
   "outputs": [
    {
     "name": "stdout",
     "text": [
      "   one  two\na  1.0    2\nb  2.0    3\nc  3.0    4\nd  NaN    5\nAdding Data\n",
      "   one  three  two\na  1.0    NaN    2\nb  2.0    NaN    3\nc  3.0    NaN    4\nd  NaN    NaN    5\n0  NaN   13.0   11\n1  NaN   19.0   17\n"
     ],
     "output_type": "stream"
    }
   ],
   "source": [
    "data={'one':pd.Series([1,2,3],index=['a','b','c']),\n",
    "      'two':pd.Series([2,3,4,5],index=['a','b','c','d'])}\n",
    "table=pd.DataFrame(data)\n",
    "print (table)\n",
    "#Adding new rows\n",
    "print ('Adding Data')\n",
    "row=pd.DataFrame([[11,13],[17,19]],columns=['two','three'])\n",
    "table=table.append(row)\n",
    "print (table)"
   ],
   "metadata": {
    "collapsed": false,
    "pycharm": {
     "name": "#%%\n",
     "is_executing": false
    }
   }
  },
  {
   "cell_type": "code",
   "execution_count": 124,
   "outputs": [
    {
     "name": "stdout",
     "text": [
      "   one  three  two\nb  2.0    NaN    3\nc  3.0    NaN    4\nd  NaN    NaN    5\n0  NaN   13.0   11\n1  NaN   19.0   17\n"
     ],
     "output_type": "stream"
    }
   ],
   "source": [
    "#Deleting elements\n",
    "table=table.drop('a')\n",
    "print (table)\n"
   ],
   "metadata": {
    "collapsed": false,
    "pycharm": {
     "name": "#%%\n",
     "is_executing": false
    }
   }
  }
 ],
 "metadata": {
  "kernelspec": {
   "display_name": "Python 2",
   "language": "python",
   "name": "python2"
  },
  "language_info": {
   "codemirror_mode": {
    "name": "ipython",
    "version": 2
   },
   "file_extension": ".py",
   "mimetype": "text/x-python",
   "name": "python",
   "nbconvert_exporter": "python",
   "pygments_lexer": "ipython2",
   "version": "2.7.6"
  },
  "pycharm": {
   "stem_cell": {
    "cell_type": "raw",
    "source": [],
    "metadata": {
     "collapsed": false
    }
   }
  }
 },
 "nbformat": 4,
 "nbformat_minor": 0
}