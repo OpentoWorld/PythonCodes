{
 "cells": [
  {
   "cell_type": "code",
   "execution_count": 27,
   "metadata": {
    "collapsed": true,
    "pycharm": {
     "is_executing": false
    }
   },
   "outputs": [],
   "source": [
    "import pandas as pd"
   ]
  },
  {
   "cell_type": "code",
   "execution_count": 28,
   "outputs": [],
   "source": [
    "world_cup={'Team':['West Indies','West Indies','India','Australia','Pakistan','Srilanka','Australia','Australia','Australia','India','Australia'],'Rank':[7,7,2,1,6,4,1,1,1,2,1],'Year':[1975,1979,1983,1987,1992,1996,1999,2003,2007,2011,2015]}\n",
    "chokers={'Team':['South Africa','New Zealand','Zimbabwe'],'ICC rank':[1,5,9],'Points':[895,764,656]}"
   ],
   "metadata": {
    "collapsed": false,
    "pycharm": {
     "name": "#%%\n",
     "is_executing": false
    }
   }
  },
  {
   "cell_type": "code",
   "execution_count": 29,
   "outputs": [
    {
     "name": "stdout",
     "text": [
      "    ICC rank  Points  Rank          Team    Year\n0        NaN     NaN   7.0   West Indies  1975.0\n1        NaN     NaN   7.0   West Indies  1979.0\n2        NaN     NaN   2.0         India  1983.0\n3        NaN     NaN   1.0     Australia  1987.0\n4        NaN     NaN   6.0      Pakistan  1992.0\n5        NaN     NaN   4.0      Srilanka  1996.0\n6        NaN     NaN   1.0     Australia  1999.0\n7        NaN     NaN   1.0     Australia  2003.0\n8        NaN     NaN   1.0     Australia  2007.0\n9        NaN     NaN   2.0         India  2011.0\n10       NaN     NaN   1.0     Australia  2015.0\n0        1.0   895.0   NaN  South Africa     NaN\n1        5.0   764.0   NaN   New Zealand     NaN\n2        9.0   656.0   NaN      Zimbabwe     NaN\n    ICC rank  Points  Rank          Team    Year\n0        1.0   895.0   NaN  South Africa     NaN\n1        5.0   764.0   NaN   New Zealand     NaN\n2        9.0   656.0   NaN      Zimbabwe     NaN\n0        NaN     NaN   7.0   West Indies  1975.0\n1        NaN     NaN   7.0   West Indies  1979.0\n2        NaN     NaN   2.0         India  1983.0\n3        NaN     NaN   1.0     Australia  1987.0\n4        NaN     NaN   6.0      Pakistan  1992.0\n5        NaN     NaN   4.0      Srilanka  1996.0\n6        NaN     NaN   1.0     Australia  1999.0\n7        NaN     NaN   1.0     Australia  2003.0\n8        NaN     NaN   1.0     Australia  2007.0\n9        NaN     NaN   2.0         India  2011.0\n10       NaN     NaN   1.0     Australia  2015.0\n    ICC rank  Points  Rank          Team    Year\n0        NaN     NaN   7.0   West Indies  1975.0\n1        NaN     NaN   7.0   West Indies  1979.0\n2        NaN     NaN   2.0         India  1983.0\n3        NaN     NaN   1.0     Australia  1987.0\n4        NaN     NaN   6.0      Pakistan  1992.0\n5        NaN     NaN   4.0      Srilanka  1996.0\n6        NaN     NaN   1.0     Australia  1999.0\n7        NaN     NaN   1.0     Australia  2003.0\n8        NaN     NaN   1.0     Australia  2007.0\n9        NaN     NaN   2.0         India  2011.0\n10       NaN     NaN   1.0     Australia  2015.0\n0        1.0   895.0   NaN  South Africa     NaN\n1        5.0   764.0   NaN   New Zealand     NaN\n2        9.0   656.0   NaN      Zimbabwe     NaN\n    Rank         Team  Year  ICC rank  Points          Team\n0      7  West Indies  1975       1.0   895.0  South Africa\n1      7  West Indies  1979       5.0   764.0   New Zealand\n2      2        India  1983       9.0   656.0      Zimbabwe\n3      1    Australia  1987       NaN     NaN           NaN\n4      6     Pakistan  1992       NaN     NaN           NaN\n5      4     Srilanka  1996       NaN     NaN           NaN\n6      1    Australia  1999       NaN     NaN           NaN\n7      1    Australia  2003       NaN     NaN           NaN\n8      1    Australia  2007       NaN     NaN           NaN\n9      2        India  2011       NaN     NaN           NaN\n10     1    Australia  2015       NaN     NaN           NaN\n"
     ],
     "output_type": "stream"
    },
    {
     "name": "stderr",
     "text": [
      "C:\\ProgramData\\Anaconda2\\envs\\Testing\\lib\\site-packages\\ipykernel_launcher.py:4: FutureWarning: Sorting because non-concatenation axis is not aligned. A future version\nof pandas will change to not sort by default.\n\nTo accept the future behavior, pass 'sort=False'.\n\nTo retain the current behavior and silence the warning, pass 'sort=True'.\n\n  after removing the cwd from sys.path.\n"
     ],
     "output_type": "stream"
    }
   ],
   "source": [
    "df1=pd.DataFrame(world_cup)\n",
    "df2=pd.DataFrame(chokers)\n",
    "print (pd.concat([df1,df2]))\n",
    "print (df2.append(df1))\n",
    "print (df1.append(df2))\n",
    "print (pd.concat([df1,df2],axis=1))"
   ],
   "metadata": {
    "collapsed": false,
    "pycharm": {
     "name": "#%%\n",
     "is_executing": false
    }
   }
  },
  {
   "cell_type": "code",
   "execution_count": 30,
   "outputs": [
    {
     "name": "stdout",
     "text": [
      "Empty DataFrame\nColumns: [Rank, Team, Year, ICC rank, Points]\nIndex: []\n    Rank         Team  Year  ICC rank  Points\n0      7  West Indies  1975       NaN     NaN\n1      7  West Indies  1979       NaN     NaN\n2      2        India  1983       NaN     NaN\n3      1    Australia  1987       NaN     NaN\n4      6     Pakistan  1992       NaN     NaN\n5      4     Srilanka  1996       NaN     NaN\n6      1    Australia  1999       NaN     NaN\n7      1    Australia  2003       NaN     NaN\n8      1    Australia  2007       NaN     NaN\n9      2        India  2011       NaN     NaN\n10     1    Australia  2015       NaN     NaN\n    Rank          Team    Year  ICC rank  Points\n0    7.0   West Indies  1975.0       NaN     NaN\n1    7.0   West Indies  1979.0       NaN     NaN\n2    2.0         India  1983.0       NaN     NaN\n3    2.0         India  2011.0       NaN     NaN\n4    1.0     Australia  1987.0       NaN     NaN\n5    1.0     Australia  1999.0       NaN     NaN\n6    1.0     Australia  2003.0       NaN     NaN\n7    1.0     Australia  2007.0       NaN     NaN\n8    1.0     Australia  2015.0       NaN     NaN\n9    6.0      Pakistan  1992.0       NaN     NaN\n10   4.0      Srilanka  1996.0       NaN     NaN\n11   NaN  South Africa     NaN       1.0   895.0\n12   NaN   New Zealand     NaN       5.0   764.0\n13   NaN      Zimbabwe     NaN       9.0   656.0\n"
     ],
     "output_type": "stream"
    }
   ],
   "source": [
    "#Merging and Joining\n",
    "print (pd.merge(df1,df2,on='Team'))\n",
    "print (pd.merge(df1,df2,on='Team',how='left'))\n",
    "print (pd.merge(df1,df2,on='Team',how='outer'))"
   ],
   "metadata": {
    "collapsed": false,
    "pycharm": {
     "name": "#%%\n",
     "is_executing": false
    }
   }
  }
 ],
 "metadata": {
  "kernelspec": {
   "display_name": "Python 2",
   "language": "python",
   "name": "python2"
  },
  "language_info": {
   "codemirror_mode": {
    "name": "ipython",
    "version": 2
   },
   "file_extension": ".py",
   "mimetype": "text/x-python",
   "name": "python",
   "nbconvert_exporter": "python",
   "pygments_lexer": "ipython2",
   "version": "2.7.6"
  },
  "pycharm": {
   "stem_cell": {
    "cell_type": "raw",
    "source": [],
    "metadata": {
     "collapsed": false
    }
   }
  }
 },
 "nbformat": 4,
 "nbformat_minor": 0
}