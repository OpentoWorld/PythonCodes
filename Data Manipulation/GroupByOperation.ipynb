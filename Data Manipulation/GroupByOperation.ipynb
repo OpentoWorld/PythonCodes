{
 "cells": [
  {
   "cell_type": "code",
   "execution_count": 1,
   "metadata": {
    "collapsed": true,
    "pycharm": {
     "is_executing": false
    }
   },
   "outputs": [],
   "source": [
    "import pandas as pd"
   ]
  },
  {
   "cell_type": "code",
   "execution_count": 2,
   "outputs": [
    {
     "name": "stdout",
     "text": [
      "{'Australia': Int64Index([3, 6, 7, 8, 10], dtype='int64'), 'India': Int64Index([2, 9], dtype='int64'), 'Pakistan': Int64Index([4], dtype='int64'), 'Srilanka': Int64Index([5], dtype='int64'), 'West Indies': Int64Index([0, 1], dtype='int64')}\nGroup name: Australia\n         Team  Rank  Year\n3   Australia     1  1987\n6   Australia     1  1999\n7   Australia     1  2003\n8   Australia     1  2007\n10  Australia     1  2015\n==========================\nGroup name: India\n    Team  Rank  Year\n2  India     2  1983\n9  India     2  2011\n==========================\nGroup name: Pakistan\n       Team  Rank  Year\n4  Pakistan     6  1992\n==========================\nGroup name: Srilanka\n       Team  Rank  Year\n5  Srilanka     4  1996\n==========================\nGroup name: West Indies\n          Team  Rank  Year\n0  West Indies     7  1975\n1  West Indies     7  1979\n==========================\n"
     ],
     "output_type": "stream"
    }
   ],
   "source": [
    "world_cup={'Team':['West Indies','West Indies','India','Australia','Pakistan','Srilanka','Australia','Australia','Australia','India','Australia'],'Rank':[7,7,2,1,6,4,1,1,1,2,1],'Year':[1975,1979,1983,1987,1992,1996,1999,2003,2007,2011,2015]}\n",
    "df=pd.DataFrame(world_cup)\n",
    "print (df.groupby('Team').groups)\n",
    "for name,group in df.groupby('Team'):\n",
    "    print ('Group name:',name)\n",
    "    print (group)\n",
    "    print ('==========================')"
   ],
   "metadata": {
    "collapsed": false,
    "pycharm": {
     "name": "#%%\n",
     "is_executing": false
    }
   }
  }
 ],
 "metadata": {
  "kernelspec": {
   "name": "python3",
   "language": "python",
   "display_name": "Python 3"
  },
  "language_info": {
   "codemirror_mode": {
    "name": "ipython",
    "version": 2
   },
   "file_extension": ".py",
   "mimetype": "text/x-python",
   "name": "python",
   "nbconvert_exporter": "python",
   "pygments_lexer": "ipython2",
   "version": "2.7.6"
  },
  "pycharm": {
   "stem_cell": {
    "cell_type": "raw",
    "source": [],
    "metadata": {
     "collapsed": false
    }
   }
  }
 },
 "nbformat": 4,
 "nbformat_minor": 0
}