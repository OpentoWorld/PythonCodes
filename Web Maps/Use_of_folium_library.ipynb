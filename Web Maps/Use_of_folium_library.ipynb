{
 "cells": [
  {
   "cell_type": "code",
   "execution_count": 8,
   "metadata": {
    "collapsed": true,
    "pycharm": {
     "is_executing": false
    }
   },
   "outputs": [],
   "source": [
    "import folium as fm\n",
    "map=fm.Map(location=[38.2,-99.1],zoom_start=6,tiles='Mapbox Bright')\n",
    "fg=fm.FeatureGroup(name=\"Volcanoes\")"
   ]
  },
  {
   "cell_type": "code",
   "execution_count": 9,
   "outputs": [
    {
     "name": "stdout",
     "text": [
      "<folium.folium.Map object at 0x7f77aeeba590>\n"
     ],
     "output_type": "stream"
    }
   ],
   "source": [
    "for coordinate in ([38.2,-99.1],[33.58,-98.09]):\n",
    "    fg.add_child(fm.Marker(location=coordinate,popup=\"Hi, I am a Marker\",icon=fm.Icon(color=\"green\")))\n",
    "map.add_child(fg)\n",
    "map.save(\"Folium.html\")\n",
    "print(map)\n"
   ],
   "metadata": {
    "collapsed": false,
    "pycharm": {
     "name": "#%%\n",
     "is_executing": false
    }
   }
  }
 ],
 "metadata": {
  "kernelspec": {
   "display_name": "Python 3",
   "language": "python",
   "name": "python3"
  },
  "language_info": {
   "codemirror_mode": {
    "name": "ipython",
    "version": 2
   },
   "file_extension": ".py",
   "mimetype": "text/x-python",
   "name": "python",
   "nbconvert_exporter": "python",
   "pygments_lexer": "ipython2",
   "version": "2.7.6"
  },
  "pycharm": {
   "stem_cell": {
    "cell_type": "raw",
    "source": [],
    "metadata": {
     "collapsed": false
    }
   }
  }
 },
 "nbformat": 4,
 "nbformat_minor": 0
}